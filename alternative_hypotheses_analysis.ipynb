{
 "cells": [
  {
   "cell_type": "code",
   "execution_count": 3,
   "id": "8852649e-043f-40f0-88fb-be92ef502e83",
   "metadata": {
    "noteable": {
     "cell_type": "code"
    }
   },
   "outputs": [
    {
     "name": "stdout",
     "output_type": "stream",
     "text": [
      "       instant               dteday      temp   atemp   hum  windspeed  \\\n",
      "0            1  2011-01-01 00:00:00  0.224490  0.2879  0.81   0.000000   \n",
      "1            2  2011-01-01 00:00:00  0.204082  0.2727  0.80   0.000000   \n",
      "2            3  2011-01-01 00:00:00  0.204082  0.2727  0.80   0.000000   \n",
      "3            4  2011-01-01 00:00:00  0.224490  0.2879  0.75   0.000000   \n",
      "4            5  2011-01-01 00:00:00  0.224490  0.2879  0.75   0.000000   \n",
      "...        ...                  ...       ...     ...   ...        ...   \n",
      "17374    17375  2012-12-31 00:00:00  0.244898  0.2576  0.60   0.193018   \n",
      "17375    17376  2012-12-31 00:00:00  0.244898  0.2576  0.60   0.193018   \n",
      "17376    17377  2012-12-31 00:00:00  0.244898  0.2576  0.60   0.193018   \n",
      "17377    17378  2012-12-31 00:00:00  0.244898  0.2727  0.56   0.157870   \n",
      "17378    17379  2012-12-31 00:00:00  0.244898  0.2727  0.65   0.157870   \n",
      "\n",
      "       casual  registered  cnt  season_1  ...  weekday_3  weekday_4  \\\n",
      "0           3          13   16         1  ...          0          0   \n",
      "1           8          32   40         1  ...          0          0   \n",
      "2           5          27   32         1  ...          0          0   \n",
      "3           3          10   13         1  ...          0          0   \n",
      "4           0           1    1         1  ...          0          0   \n",
      "...       ...         ...  ...       ...  ...        ...        ...   \n",
      "17374      11         108  119         1  ...          0          0   \n",
      "17375       8          81   89         1  ...          0          0   \n",
      "17376       7          83   90         1  ...          0          0   \n",
      "17377      13          48   61         1  ...          0          0   \n",
      "17378      12          37   49         1  ...          0          0   \n",
      "\n",
      "       weekday_5  weekday_6  workingday_0  workingday_1  weathersit_1  \\\n",
      "0              0          1             1             0             1   \n",
      "1              0          1             1             0             1   \n",
      "2              0          1             1             0             1   \n",
      "3              0          1             1             0             1   \n",
      "4              0          1             1             0             1   \n",
      "...          ...        ...           ...           ...           ...   \n",
      "17374          0          0             0             1             0   \n",
      "17375          0          0             0             1             0   \n",
      "17376          0          0             0             1             1   \n",
      "17377          0          0             0             1             1   \n",
      "17378          0          0             0             1             1   \n",
      "\n",
      "       weathersit_2  weathersit_3  weathersit_4  \n",
      "0                 0             0             0  \n",
      "1                 0             0             0  \n",
      "2                 0             0             0  \n",
      "3                 0             0             0  \n",
      "4                 0             0             0  \n",
      "...             ...           ...           ...  \n",
      "17374             1             0             0  \n",
      "17375             1             0             0  \n",
      "17376             0             0             0  \n",
      "17377             0             0             0  \n",
      "17378             0             0             0  \n",
      "\n",
      "[17379 rows x 66 columns]\n",
      "Spearmans correlation: 0.423\n"
     ]
    }
   ],
   "source": [
    "import pandas as pd\n",
    "import matplotlib.pyplot as plt\n",
    "import seaborn as sns\n",
    "from scipy.stats import spearmanr\n",
    "import sqlite3\n",
    "\n",
    "conn = sqlite3.connect('database.db')\n",
    "\n",
    "# Query to select all data from the table in the database\n",
    "query = \"SELECT * FROM data\"\n",
    "\n",
    "# Load the data into a pandas DataFrame\n",
    "df = pd.read_sql_query(query, conn)\n",
    "print(df)\n",
    "\n",
    "# Convert 'dteday' to datetime format and set it as index for the dataframe\n",
    "df['dteday'] = pd.to_datetime(df['dteday'])\n",
    "df.set_index('dteday', inplace=True)\n",
    "\n",
    "# Calculate and print Spearman's correlation coefficient between 'temp' and 'cnt'\n",
    "corr, _ = spearmanr(df['temp'], df['cnt'])\n",
    "print('Spearmans correlation: %.3f' % corr)\n",
    "\n",
    "# Close the database connection\n",
    "conn.close()"
   ]
  },
  {
   "cell_type": "code",
   "execution_count": 2,
   "id": "0f47be42-26a6-4569-a38c-b1dcdaed855c",
   "metadata": {
    "noteable": {
     "cell_type": "code"
    }
   },
   "outputs": [
    {
     "name": "stdout",
     "output_type": "stream",
     "text": [
      "                            OLS Regression Results                            \n",
      "==============================================================================\n",
      "Dep. Variable:                    cnt   R-squared:                       0.167\n",
      "Model:                            OLS   Adj. R-squared:                  0.167\n",
      "Method:                 Least Squares   F-statistic:                     1164.\n",
      "Date:                Wed, 14 Jun 2023   Prob (F-statistic):               0.00\n",
      "Time:                        19:34:22   Log-Likelihood:            -1.1345e+05\n",
      "No. Observations:               17379   AIC:                         2.269e+05\n",
      "Df Residuals:                   17375   BIC:                         2.269e+05\n",
      "Df Model:                           3                                         \n",
      "Covariance Type:            nonrobust                                         \n",
      "===============================================================================\n",
      "                  coef    std err          t      P>|t|      [0.025      0.975]\n",
      "-------------------------------------------------------------------------------\n",
      "const         -29.6135      7.617     -3.888      0.000     -44.543     -14.684\n",
      "temp          419.4318     19.935     21.040      0.000     380.358     458.506\n",
      "season         18.8896      3.100      6.094      0.000      12.814      24.965\n",
      "temp_season   -25.1464      7.577     -3.319      0.001     -39.998     -10.295\n",
      "==============================================================================\n",
      "Omnibus:                     3052.043   Durbin-Watson:                   0.370\n",
      "Prob(Omnibus):                  0.000   Jarque-Bera (JB):             5389.163\n",
      "Skew:                           1.131   Prob(JB):                         0.00\n",
      "Kurtosis:                       4.525   Cond. No.                         58.3\n",
      "==============================================================================\n",
      "\n",
      "Notes:\n",
      "[1] Standard Errors assume that the covariance matrix of the errors is correctly specified.\n"
     ]
    }
   ],
   "source": [
    "import pandas as pd\n",
    "import matplotlib.pyplot as plt\n",
    "import seaborn as sns\n",
    "from scipy.stats import pearsonr\n",
    "import sqlite3\n",
    "import statsmodels.api as sm\n",
    "\n",
    "conn = sqlite3.connect('database.db')\n",
    "\n",
    "# Query to select all data from the table in the database\n",
    "query = \"SELECT * FROM data\"\n",
    "\n",
    "# Load the data into a pandas DataFrame\n",
    "df = pd.read_sql_query(query, conn)\n",
    "\n",
    "# Convert 'dteday' to datetime format and set it as index for the dataframe\n",
    "df['dteday'] = pd.to_datetime(df['dteday'])\n",
    "df.set_index('dteday', inplace=True)\n",
    "\n",
    "# Create a single 'season' column from the four 'season_X' columns\n",
    "df['season'] = df[['season_1', 'season_2', 'season_3', 'season_4']].idxmax(axis=1)\n",
    "\n",
    "# Map the 'season_X' column names to numerical values\n",
    "season_mapping = {'season_1': 1, 'season_2': 2, 'season_3': 3, 'season_4': 4}\n",
    "df['season'] = df['season'].map(season_mapping)\n",
    "\n",
    "# Create interaction terms\n",
    "df['temp_season'] = df['temp'] * df['season']\n",
    "\n",
    "# Fit a linear regression model with interaction term\n",
    "X = df[['temp', 'season', 'temp_season']]\n",
    "X = sm.add_constant(X)  # add a constant term to the predictor\n",
    "y = df['cnt']\n",
    "model = sm.OLS(y, X)\n",
    "results = model.fit()\n",
    "\n",
    "# Print the summary of the regression model\n",
    "print(results.summary())\n",
    "\n",
    "# Close the database connection\n",
    "conn.close()\n"
   ]
  },
  {
   "cell_type": "code",
   "execution_count": 4,
   "id": "c78a73fb-26ea-4a2e-a267-b36fb498c120",
   "metadata": {
    "noteable": {
     "cell_type": "code"
    }
   },
   "outputs": [
    {
     "name": "stdout",
     "output_type": "stream",
     "text": [
      "                            OLS Regression Results                            \n",
      "==============================================================================\n",
      "Dep. Variable:                    cnt   R-squared:                       0.252\n",
      "Model:                            OLS   Adj. R-squared:                  0.252\n",
      "Method:                 Least Squares   F-statistic:                     1462.\n",
      "Date:                Wed, 14 Jun 2023   Prob (F-statistic):               0.00\n",
      "Time:                        11:55:14   Log-Likelihood:            -1.1252e+05\n",
      "No. Observations:               17379   AIC:                         2.251e+05\n",
      "Df Residuals:                   17374   BIC:                         2.251e+05\n",
      "Df Model:                           4                                         \n",
      "Covariance Type:            nonrobust                                         \n",
      "==============================================================================\n",
      "                 coef    std err          t      P>|t|      [0.025      0.975]\n",
      "------------------------------------------------------------------------------\n",
      "const        180.3369      6.178     29.188      0.000     168.226     192.447\n",
      "temp         356.6963      6.096     58.511      0.000     344.747     368.646\n",
      "hum         -283.3421      7.205    -39.327      0.000    -297.464    -269.220\n",
      "windspeed     17.8342      8.781      2.031      0.042       0.623      35.046\n",
      "weather        6.4896      2.086      3.112      0.002       2.402      10.577\n",
      "==============================================================================\n",
      "Omnibus:                     3626.084   Durbin-Watson:                   0.418\n",
      "Prob(Omnibus):                  0.000   Jarque-Bera (JB):             7330.710\n",
      "Skew:                           1.248   Prob(JB):                         0.00\n",
      "Kurtosis:                       4.974   Cond. No.                         17.7\n",
      "==============================================================================\n",
      "\n",
      "Notes:\n",
      "[1] Standard Errors assume that the covariance matrix of the errors is correctly specified.\n"
     ]
    }
   ],
   "source": [
    "import statsmodels.api as sm\n",
    "\n",
    "conn = sqlite3.connect('database.db')\n",
    "\n",
    "# Query to select all data from the table in the database\n",
    "query = \"SELECT * FROM data\"\n",
    "\n",
    "# Load the data into a pandas DataFrame\n",
    "df = pd.read_sql_query(query, conn)\n",
    "\n",
    "# Convert 'dteday' to datetime format and set it as index for the dataframe\n",
    "df['dteday'] = pd.to_datetime(df['dteday'])\n",
    "df.set_index('dteday', inplace=True)\n",
    "\n",
    "# Create a single 'weather' column from the four 'weathersit_X' columns\n",
    "df['weather'] = df[['weathersit_1', 'weathersit_2', 'weathersit_3', 'weathersit_4']].idxmax(axis=1)\n",
    "\n",
    "# Map the 'weathersit_X' column names to numerical values\n",
    "weather_mapping = {'weathersit_1': 1, 'weathersit_2': 2, 'weathersit_3': 3, 'weathersit_4': 4}\n",
    "df['weather'] = df['weather'].map(weather_mapping)\n",
    "\n",
    "# Fit a linear regression model with 'temp', 'hum', 'windspeed', and 'weather'\n",
    "X = df[['temp', 'hum', 'windspeed', 'weather']]\n",
    "X = sm.add_constant(X)  # add a constant term to the predictor\n",
    "y = df['cnt']\n",
    "model = sm.OLS(y, X)\n",
    "results = model.fit()\n",
    "\n",
    "# Print the summary of the regression model\n",
    "print(results.summary())\n",
    "\n",
    "# Close the database connection\n",
    "conn.close()\n"
   ]
  },
  {
   "cell_type": "code",
   "execution_count": null,
   "id": "5acfd173",
   "metadata": {},
   "outputs": [],
   "source": []
  }
 ],
 "metadata": {
  "kernelspec": {
   "display_name": "Python 3 (ipykernel)",
   "language": "python",
   "name": "python3"
  },
  "language_info": {
   "codemirror_mode": {
    "name": "ipython",
    "version": 3
   },
   "file_extension": ".py",
   "mimetype": "text/x-python",
   "name": "python",
   "nbconvert_exporter": "python",
   "pygments_lexer": "ipython3",
   "version": "3.10.9"
  },
  "noteable": {
   "last_delta_id": "dbb72b36-4467-4ce5-b8fa-e4e4ae29a791",
   "last_transaction_id": "0d965daa-8c32-49d8-8da4-70dafd1ca9a8"
  },
  "noteable-chatgpt": {
   "create_notebook": {
    "openai_conversation_id": "9a2b0c61-97c2-58e2-8f24-29a52708c812",
    "openai_ephemeral_user_id": "30d00dc9-0a5d-5cb3-b330-cd7c8ba7274e",
    "openai_subdivision1_iso_code": "US-CA"
   }
  },
  "nteract": {
   "version": "noteable@2.9.0"
  },
  "selected_hardware_size": "small"
 },
 "nbformat": 4,
 "nbformat_minor": 5
}
