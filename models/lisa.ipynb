{
 "cells": [
  {
   "cell_type": "markdown",
   "id": "d1cf4ceb-f25a-4d91-9682-709084b233fe",
   "metadata": {},
   "source": [
    "# Environment Setup"
   ]
  },
  {
   "cell_type": "code",
   "execution_count": 1,
   "id": "2e0cbb01-9044-43bf-a62e-86b6f31bce3e",
   "metadata": {
    "tags": []
   },
   "outputs": [],
   "source": [
    "%matplotlib inline"
   ]
  },
  {
   "cell_type": "code",
   "execution_count": 2,
   "id": "6cf67303-2eff-4691-9ca4-f791b7fc2aa7",
   "metadata": {
    "tags": []
   },
   "outputs": [],
   "source": [
    "import numpy as np\n",
    "import pandas as pd\n",
    "from matplotlib import pyplot as plt\n",
    "import seaborn as sns\n",
    "# import statsmodels.api as sm\n",
    "import scipy.stats as stats\n",
    "from sklearn.preprocessing import LabelEncoder\n",
    "import copy"
   ]
  },
  {
   "cell_type": "code",
   "execution_count": 3,
   "id": "374c7286-b0c5-430e-9ca9-e7bc61da255e",
   "metadata": {
    "tags": []
   },
   "outputs": [],
   "source": [
    "df = pd.read_csv('../data/hour.csv')"
   ]
  },
  {
   "cell_type": "code",
   "execution_count": 4,
   "id": "c2602bd2-71f0-43b2-9951-773396195f52",
   "metadata": {
    "tags": []
   },
   "outputs": [
    {
     "data": {
      "text/html": [
       "<div>\n",
       "<style scoped>\n",
       "    .dataframe tbody tr th:only-of-type {\n",
       "        vertical-align: middle;\n",
       "    }\n",
       "\n",
       "    .dataframe tbody tr th {\n",
       "        vertical-align: top;\n",
       "    }\n",
       "\n",
       "    .dataframe thead th {\n",
       "        text-align: right;\n",
       "    }\n",
       "</style>\n",
       "<table border=\"1\" class=\"dataframe\">\n",
       "  <thead>\n",
       "    <tr style=\"text-align: right;\">\n",
       "      <th></th>\n",
       "      <th>instant</th>\n",
       "      <th>dteday</th>\n",
       "      <th>season</th>\n",
       "      <th>yr</th>\n",
       "      <th>mnth</th>\n",
       "      <th>hr</th>\n",
       "      <th>holiday</th>\n",
       "      <th>weekday</th>\n",
       "      <th>workingday</th>\n",
       "      <th>weathersit</th>\n",
       "      <th>temp</th>\n",
       "      <th>atemp</th>\n",
       "      <th>hum</th>\n",
       "      <th>windspeed</th>\n",
       "      <th>casual</th>\n",
       "      <th>registered</th>\n",
       "      <th>cnt</th>\n",
       "    </tr>\n",
       "  </thead>\n",
       "  <tbody>\n",
       "    <tr>\n",
       "      <th>0</th>\n",
       "      <td>1</td>\n",
       "      <td>2011-01-01</td>\n",
       "      <td>1</td>\n",
       "      <td>0</td>\n",
       "      <td>1</td>\n",
       "      <td>0</td>\n",
       "      <td>0</td>\n",
       "      <td>6</td>\n",
       "      <td>0</td>\n",
       "      <td>1</td>\n",
       "      <td>0.24</td>\n",
       "      <td>0.2879</td>\n",
       "      <td>0.81</td>\n",
       "      <td>0.0</td>\n",
       "      <td>3</td>\n",
       "      <td>13</td>\n",
       "      <td>16</td>\n",
       "    </tr>\n",
       "    <tr>\n",
       "      <th>1</th>\n",
       "      <td>2</td>\n",
       "      <td>2011-01-01</td>\n",
       "      <td>1</td>\n",
       "      <td>0</td>\n",
       "      <td>1</td>\n",
       "      <td>1</td>\n",
       "      <td>0</td>\n",
       "      <td>6</td>\n",
       "      <td>0</td>\n",
       "      <td>1</td>\n",
       "      <td>0.22</td>\n",
       "      <td>0.2727</td>\n",
       "      <td>0.80</td>\n",
       "      <td>0.0</td>\n",
       "      <td>8</td>\n",
       "      <td>32</td>\n",
       "      <td>40</td>\n",
       "    </tr>\n",
       "    <tr>\n",
       "      <th>2</th>\n",
       "      <td>3</td>\n",
       "      <td>2011-01-01</td>\n",
       "      <td>1</td>\n",
       "      <td>0</td>\n",
       "      <td>1</td>\n",
       "      <td>2</td>\n",
       "      <td>0</td>\n",
       "      <td>6</td>\n",
       "      <td>0</td>\n",
       "      <td>1</td>\n",
       "      <td>0.22</td>\n",
       "      <td>0.2727</td>\n",
       "      <td>0.80</td>\n",
       "      <td>0.0</td>\n",
       "      <td>5</td>\n",
       "      <td>27</td>\n",
       "      <td>32</td>\n",
       "    </tr>\n",
       "    <tr>\n",
       "      <th>3</th>\n",
       "      <td>4</td>\n",
       "      <td>2011-01-01</td>\n",
       "      <td>1</td>\n",
       "      <td>0</td>\n",
       "      <td>1</td>\n",
       "      <td>3</td>\n",
       "      <td>0</td>\n",
       "      <td>6</td>\n",
       "      <td>0</td>\n",
       "      <td>1</td>\n",
       "      <td>0.24</td>\n",
       "      <td>0.2879</td>\n",
       "      <td>0.75</td>\n",
       "      <td>0.0</td>\n",
       "      <td>3</td>\n",
       "      <td>10</td>\n",
       "      <td>13</td>\n",
       "    </tr>\n",
       "    <tr>\n",
       "      <th>4</th>\n",
       "      <td>5</td>\n",
       "      <td>2011-01-01</td>\n",
       "      <td>1</td>\n",
       "      <td>0</td>\n",
       "      <td>1</td>\n",
       "      <td>4</td>\n",
       "      <td>0</td>\n",
       "      <td>6</td>\n",
       "      <td>0</td>\n",
       "      <td>1</td>\n",
       "      <td>0.24</td>\n",
       "      <td>0.2879</td>\n",
       "      <td>0.75</td>\n",
       "      <td>0.0</td>\n",
       "      <td>0</td>\n",
       "      <td>1</td>\n",
       "      <td>1</td>\n",
       "    </tr>\n",
       "  </tbody>\n",
       "</table>\n",
       "</div>"
      ],
      "text/plain": [
       "   instant      dteday  season  yr  mnth  hr  holiday  weekday  workingday  \\\n",
       "0        1  2011-01-01       1   0     1   0        0        6           0   \n",
       "1        2  2011-01-01       1   0     1   1        0        6           0   \n",
       "2        3  2011-01-01       1   0     1   2        0        6           0   \n",
       "3        4  2011-01-01       1   0     1   3        0        6           0   \n",
       "4        5  2011-01-01       1   0     1   4        0        6           0   \n",
       "\n",
       "   weathersit  temp   atemp   hum  windspeed  casual  registered  cnt  \n",
       "0           1  0.24  0.2879  0.81        0.0       3          13   16  \n",
       "1           1  0.22  0.2727  0.80        0.0       8          32   40  \n",
       "2           1  0.22  0.2727  0.80        0.0       5          27   32  \n",
       "3           1  0.24  0.2879  0.75        0.0       3          10   13  \n",
       "4           1  0.24  0.2879  0.75        0.0       0           1    1  "
      ]
     },
     "execution_count": 4,
     "metadata": {},
     "output_type": "execute_result"
    }
   ],
   "source": [
    "df.head()"
   ]
  },
  {
   "cell_type": "code",
   "execution_count": 5,
   "id": "c1bbdfad-9ac5-4cfa-a9a8-9ad8230472ff",
   "metadata": {},
   "outputs": [
    {
     "data": {
      "text/html": [
       "<div>\n",
       "<style scoped>\n",
       "    .dataframe tbody tr th:only-of-type {\n",
       "        vertical-align: middle;\n",
       "    }\n",
       "\n",
       "    .dataframe tbody tr th {\n",
       "        vertical-align: top;\n",
       "    }\n",
       "\n",
       "    .dataframe thead th {\n",
       "        text-align: right;\n",
       "    }\n",
       "</style>\n",
       "<table border=\"1\" class=\"dataframe\">\n",
       "  <thead>\n",
       "    <tr style=\"text-align: right;\">\n",
       "      <th></th>\n",
       "      <th>instant</th>\n",
       "      <th>dteday</th>\n",
       "      <th>season</th>\n",
       "      <th>yr</th>\n",
       "      <th>mnth</th>\n",
       "      <th>hr</th>\n",
       "      <th>holiday</th>\n",
       "      <th>weekday</th>\n",
       "      <th>workingday</th>\n",
       "      <th>weathersit</th>\n",
       "      <th>temp</th>\n",
       "      <th>atemp</th>\n",
       "      <th>hum</th>\n",
       "      <th>windspeed</th>\n",
       "      <th>casual</th>\n",
       "      <th>registered</th>\n",
       "      <th>cnt</th>\n",
       "    </tr>\n",
       "  </thead>\n",
       "  <tbody>\n",
       "    <tr>\n",
       "      <th>17374</th>\n",
       "      <td>17375</td>\n",
       "      <td>2012-12-31</td>\n",
       "      <td>1</td>\n",
       "      <td>1</td>\n",
       "      <td>12</td>\n",
       "      <td>19</td>\n",
       "      <td>0</td>\n",
       "      <td>1</td>\n",
       "      <td>1</td>\n",
       "      <td>2</td>\n",
       "      <td>0.26</td>\n",
       "      <td>0.2576</td>\n",
       "      <td>0.60</td>\n",
       "      <td>0.1642</td>\n",
       "      <td>11</td>\n",
       "      <td>108</td>\n",
       "      <td>119</td>\n",
       "    </tr>\n",
       "    <tr>\n",
       "      <th>17375</th>\n",
       "      <td>17376</td>\n",
       "      <td>2012-12-31</td>\n",
       "      <td>1</td>\n",
       "      <td>1</td>\n",
       "      <td>12</td>\n",
       "      <td>20</td>\n",
       "      <td>0</td>\n",
       "      <td>1</td>\n",
       "      <td>1</td>\n",
       "      <td>2</td>\n",
       "      <td>0.26</td>\n",
       "      <td>0.2576</td>\n",
       "      <td>0.60</td>\n",
       "      <td>0.1642</td>\n",
       "      <td>8</td>\n",
       "      <td>81</td>\n",
       "      <td>89</td>\n",
       "    </tr>\n",
       "    <tr>\n",
       "      <th>17376</th>\n",
       "      <td>17377</td>\n",
       "      <td>2012-12-31</td>\n",
       "      <td>1</td>\n",
       "      <td>1</td>\n",
       "      <td>12</td>\n",
       "      <td>21</td>\n",
       "      <td>0</td>\n",
       "      <td>1</td>\n",
       "      <td>1</td>\n",
       "      <td>1</td>\n",
       "      <td>0.26</td>\n",
       "      <td>0.2576</td>\n",
       "      <td>0.60</td>\n",
       "      <td>0.1642</td>\n",
       "      <td>7</td>\n",
       "      <td>83</td>\n",
       "      <td>90</td>\n",
       "    </tr>\n",
       "    <tr>\n",
       "      <th>17377</th>\n",
       "      <td>17378</td>\n",
       "      <td>2012-12-31</td>\n",
       "      <td>1</td>\n",
       "      <td>1</td>\n",
       "      <td>12</td>\n",
       "      <td>22</td>\n",
       "      <td>0</td>\n",
       "      <td>1</td>\n",
       "      <td>1</td>\n",
       "      <td>1</td>\n",
       "      <td>0.26</td>\n",
       "      <td>0.2727</td>\n",
       "      <td>0.56</td>\n",
       "      <td>0.1343</td>\n",
       "      <td>13</td>\n",
       "      <td>48</td>\n",
       "      <td>61</td>\n",
       "    </tr>\n",
       "    <tr>\n",
       "      <th>17378</th>\n",
       "      <td>17379</td>\n",
       "      <td>2012-12-31</td>\n",
       "      <td>1</td>\n",
       "      <td>1</td>\n",
       "      <td>12</td>\n",
       "      <td>23</td>\n",
       "      <td>0</td>\n",
       "      <td>1</td>\n",
       "      <td>1</td>\n",
       "      <td>1</td>\n",
       "      <td>0.26</td>\n",
       "      <td>0.2727</td>\n",
       "      <td>0.65</td>\n",
       "      <td>0.1343</td>\n",
       "      <td>12</td>\n",
       "      <td>37</td>\n",
       "      <td>49</td>\n",
       "    </tr>\n",
       "  </tbody>\n",
       "</table>\n",
       "</div>"
      ],
      "text/plain": [
       "       instant      dteday  season  yr  mnth  hr  holiday  weekday  \\\n",
       "17374    17375  2012-12-31       1   1    12  19        0        1   \n",
       "17375    17376  2012-12-31       1   1    12  20        0        1   \n",
       "17376    17377  2012-12-31       1   1    12  21        0        1   \n",
       "17377    17378  2012-12-31       1   1    12  22        0        1   \n",
       "17378    17379  2012-12-31       1   1    12  23        0        1   \n",
       "\n",
       "       workingday  weathersit  temp   atemp   hum  windspeed  casual  \\\n",
       "17374           1           2  0.26  0.2576  0.60     0.1642      11   \n",
       "17375           1           2  0.26  0.2576  0.60     0.1642       8   \n",
       "17376           1           1  0.26  0.2576  0.60     0.1642       7   \n",
       "17377           1           1  0.26  0.2727  0.56     0.1343      13   \n",
       "17378           1           1  0.26  0.2727  0.65     0.1343      12   \n",
       "\n",
       "       registered  cnt  \n",
       "17374         108  119  \n",
       "17375          81   89  \n",
       "17376          83   90  \n",
       "17377          48   61  \n",
       "17378          37   49  "
      ]
     },
     "execution_count": 5,
     "metadata": {},
     "output_type": "execute_result"
    }
   ],
   "source": [
    "df.tail()"
   ]
  },
  {
   "cell_type": "markdown",
   "id": "9c742ab9-6648-47f9-ba96-099764abb1b9",
   "metadata": {},
   "source": [
    "# Data Cleaning/Preparation"
   ]
  },
  {
   "cell_type": "markdown",
   "id": "e3949c01-0684-47c1-9577-71a2f181dc92",
   "metadata": {},
   "source": [
    "## Drop unneeded columns"
   ]
  },
  {
   "cell_type": "markdown",
   "id": "054a6dd5-28be-43e7-a9a3-af04d039c1b4",
   "metadata": {},
   "source": [
    "Instant column is an index of the column for the registration index. Will drop the column because it is not needed and will use the same index for all the other columns.\n",
    "dteday is also not needed. Since we need to answer the question based on season, we will not use this variable."
   ]
  },
  {
   "cell_type": "code",
   "execution_count": 6,
   "id": "5722bbc5-63a0-42f5-8275-f0055f177779",
   "metadata": {},
   "outputs": [],
   "source": [
    "df = df.drop(['instant', 'dteday'], axis=1)"
   ]
  },
  {
   "cell_type": "code",
   "execution_count": 7,
   "id": "83581f5f-4f26-4018-a9ee-9df79cecd70e",
   "metadata": {},
   "outputs": [
    {
     "data": {
      "text/html": [
       "<div>\n",
       "<style scoped>\n",
       "    .dataframe tbody tr th:only-of-type {\n",
       "        vertical-align: middle;\n",
       "    }\n",
       "\n",
       "    .dataframe tbody tr th {\n",
       "        vertical-align: top;\n",
       "    }\n",
       "\n",
       "    .dataframe thead th {\n",
       "        text-align: right;\n",
       "    }\n",
       "</style>\n",
       "<table border=\"1\" class=\"dataframe\">\n",
       "  <thead>\n",
       "    <tr style=\"text-align: right;\">\n",
       "      <th></th>\n",
       "      <th>season</th>\n",
       "      <th>yr</th>\n",
       "      <th>mnth</th>\n",
       "      <th>hr</th>\n",
       "      <th>holiday</th>\n",
       "      <th>weekday</th>\n",
       "      <th>workingday</th>\n",
       "      <th>weathersit</th>\n",
       "      <th>temp</th>\n",
       "      <th>atemp</th>\n",
       "      <th>hum</th>\n",
       "      <th>windspeed</th>\n",
       "      <th>casual</th>\n",
       "      <th>registered</th>\n",
       "      <th>cnt</th>\n",
       "    </tr>\n",
       "  </thead>\n",
       "  <tbody>\n",
       "    <tr>\n",
       "      <th>0</th>\n",
       "      <td>1</td>\n",
       "      <td>0</td>\n",
       "      <td>1</td>\n",
       "      <td>0</td>\n",
       "      <td>0</td>\n",
       "      <td>6</td>\n",
       "      <td>0</td>\n",
       "      <td>1</td>\n",
       "      <td>0.24</td>\n",
       "      <td>0.2879</td>\n",
       "      <td>0.81</td>\n",
       "      <td>0.0</td>\n",
       "      <td>3</td>\n",
       "      <td>13</td>\n",
       "      <td>16</td>\n",
       "    </tr>\n",
       "    <tr>\n",
       "      <th>1</th>\n",
       "      <td>1</td>\n",
       "      <td>0</td>\n",
       "      <td>1</td>\n",
       "      <td>1</td>\n",
       "      <td>0</td>\n",
       "      <td>6</td>\n",
       "      <td>0</td>\n",
       "      <td>1</td>\n",
       "      <td>0.22</td>\n",
       "      <td>0.2727</td>\n",
       "      <td>0.80</td>\n",
       "      <td>0.0</td>\n",
       "      <td>8</td>\n",
       "      <td>32</td>\n",
       "      <td>40</td>\n",
       "    </tr>\n",
       "    <tr>\n",
       "      <th>2</th>\n",
       "      <td>1</td>\n",
       "      <td>0</td>\n",
       "      <td>1</td>\n",
       "      <td>2</td>\n",
       "      <td>0</td>\n",
       "      <td>6</td>\n",
       "      <td>0</td>\n",
       "      <td>1</td>\n",
       "      <td>0.22</td>\n",
       "      <td>0.2727</td>\n",
       "      <td>0.80</td>\n",
       "      <td>0.0</td>\n",
       "      <td>5</td>\n",
       "      <td>27</td>\n",
       "      <td>32</td>\n",
       "    </tr>\n",
       "    <tr>\n",
       "      <th>3</th>\n",
       "      <td>1</td>\n",
       "      <td>0</td>\n",
       "      <td>1</td>\n",
       "      <td>3</td>\n",
       "      <td>0</td>\n",
       "      <td>6</td>\n",
       "      <td>0</td>\n",
       "      <td>1</td>\n",
       "      <td>0.24</td>\n",
       "      <td>0.2879</td>\n",
       "      <td>0.75</td>\n",
       "      <td>0.0</td>\n",
       "      <td>3</td>\n",
       "      <td>10</td>\n",
       "      <td>13</td>\n",
       "    </tr>\n",
       "    <tr>\n",
       "      <th>4</th>\n",
       "      <td>1</td>\n",
       "      <td>0</td>\n",
       "      <td>1</td>\n",
       "      <td>4</td>\n",
       "      <td>0</td>\n",
       "      <td>6</td>\n",
       "      <td>0</td>\n",
       "      <td>1</td>\n",
       "      <td>0.24</td>\n",
       "      <td>0.2879</td>\n",
       "      <td>0.75</td>\n",
       "      <td>0.0</td>\n",
       "      <td>0</td>\n",
       "      <td>1</td>\n",
       "      <td>1</td>\n",
       "    </tr>\n",
       "  </tbody>\n",
       "</table>\n",
       "</div>"
      ],
      "text/plain": [
       "   season  yr  mnth  hr  holiday  weekday  workingday  weathersit  temp  \\\n",
       "0       1   0     1   0        0        6           0           1  0.24   \n",
       "1       1   0     1   1        0        6           0           1  0.22   \n",
       "2       1   0     1   2        0        6           0           1  0.22   \n",
       "3       1   0     1   3        0        6           0           1  0.24   \n",
       "4       1   0     1   4        0        6           0           1  0.24   \n",
       "\n",
       "    atemp   hum  windspeed  casual  registered  cnt  \n",
       "0  0.2879  0.81        0.0       3          13   16  \n",
       "1  0.2727  0.80        0.0       8          32   40  \n",
       "2  0.2727  0.80        0.0       5          27   32  \n",
       "3  0.2879  0.75        0.0       3          10   13  \n",
       "4  0.2879  0.75        0.0       0           1    1  "
      ]
     },
     "execution_count": 7,
     "metadata": {},
     "output_type": "execute_result"
    }
   ],
   "source": [
    "df.head()"
   ]
  },
  {
   "cell_type": "code",
   "execution_count": 8,
   "id": "ae756e16-d9ef-4242-ad2f-7e33b2aa7ab0",
   "metadata": {},
   "outputs": [
    {
     "data": {
      "text/plain": [
       "(17379, 15)"
      ]
     },
     "execution_count": 8,
     "metadata": {},
     "output_type": "execute_result"
    }
   ],
   "source": [
    "df.shape"
   ]
  },
  {
   "cell_type": "code",
   "execution_count": 9,
   "id": "97d0c845-290c-4641-a946-b66d2b83f4c9",
   "metadata": {},
   "outputs": [
    {
     "name": "stdout",
     "output_type": "stream",
     "text": [
      "<class 'pandas.core.frame.DataFrame'>\n",
      "RangeIndex: 17379 entries, 0 to 17378\n",
      "Data columns (total 15 columns):\n",
      " #   Column      Non-Null Count  Dtype  \n",
      "---  ------      --------------  -----  \n",
      " 0   season      17379 non-null  int64  \n",
      " 1   yr          17379 non-null  int64  \n",
      " 2   mnth        17379 non-null  int64  \n",
      " 3   hr          17379 non-null  int64  \n",
      " 4   holiday     17379 non-null  int64  \n",
      " 5   weekday     17379 non-null  int64  \n",
      " 6   workingday  17379 non-null  int64  \n",
      " 7   weathersit  17379 non-null  int64  \n",
      " 8   temp        17379 non-null  float64\n",
      " 9   atemp       17379 non-null  float64\n",
      " 10  hum         17379 non-null  float64\n",
      " 11  windspeed   17379 non-null  float64\n",
      " 12  casual      17379 non-null  int64  \n",
      " 13  registered  17379 non-null  int64  \n",
      " 14  cnt         17379 non-null  int64  \n",
      "dtypes: float64(4), int64(11)\n",
      "memory usage: 2.0 MB\n"
     ]
    }
   ],
   "source": [
    "df.info()"
   ]
  },
  {
   "cell_type": "markdown",
   "id": "68108493-3b48-437d-b2d0-83e8888619a4",
   "metadata": {},
   "source": [
    "## Fixing the data types\n",
    "All variables are Integer are valid data type except for season\tyr,\tmnth, hr, holiday, weekday\tworkingday, weathersit. They should be treated as a category.\n"
   ]
  },
  {
   "cell_type": "code",
   "execution_count": 10,
   "id": "75210606-899c-4743-8503-50fc7d85f10a",
   "metadata": {},
   "outputs": [],
   "source": [
    "df[\"season\"] = df[\"season\"].astype('category')\n",
    "df[\"yr\"] = df[\"yr\"].astype('category')\n",
    "df[\"mnth\"] = df[\"mnth\"].astype('category')\n",
    "df[\"holiday\"] = df[\"holiday\"].astype('category')\n",
    "df[\"weekday\"] = df[\"weekday\"].astype('category')\n",
    "df[\"workingday\"] = df[\"workingday\"].astype('category')\n",
    "df[\"weathersit\"] = df[\"weathersit\"].astype('category')\n"
   ]
  },
  {
   "cell_type": "markdown",
   "id": "667ef5e9-5e0d-496e-97ff-e141d19615cb",
   "metadata": {},
   "source": [
    "Hour of the day has a natural ordering - 9am is closer to 10am or 8am than it is to 6pm. It is best thought of as a discrete ordinal variable. We will treat it as characteristic of being cyclic."
   ]
  },
  {
   "cell_type": "code",
   "execution_count": 11,
   "id": "33e2ebe5-fde7-474f-afe8-2e4ff704ada0",
   "metadata": {},
   "outputs": [
    {
     "name": "stdout",
     "output_type": "stream",
     "text": [
      "<class 'pandas.core.frame.DataFrame'>\n",
      "RangeIndex: 17379 entries, 0 to 17378\n",
      "Data columns (total 15 columns):\n",
      " #   Column      Non-Null Count  Dtype   \n",
      "---  ------      --------------  -----   \n",
      " 0   season      17379 non-null  category\n",
      " 1   yr          17379 non-null  category\n",
      " 2   mnth        17379 non-null  category\n",
      " 3   hr          17379 non-null  int64   \n",
      " 4   holiday     17379 non-null  category\n",
      " 5   weekday     17379 non-null  category\n",
      " 6   workingday  17379 non-null  category\n",
      " 7   weathersit  17379 non-null  category\n",
      " 8   temp        17379 non-null  float64 \n",
      " 9   atemp       17379 non-null  float64 \n",
      " 10  hum         17379 non-null  float64 \n",
      " 11  windspeed   17379 non-null  float64 \n",
      " 12  casual      17379 non-null  int64   \n",
      " 13  registered  17379 non-null  int64   \n",
      " 14  cnt         17379 non-null  int64   \n",
      "dtypes: category(7), float64(4), int64(4)\n",
      "memory usage: 1.2 MB\n"
     ]
    }
   ],
   "source": [
    "df.info()"
   ]
  },
  {
   "cell_type": "code",
   "execution_count": 12,
   "id": "4c2c2579-c31b-4f85-ad9a-b52cce03b955",
   "metadata": {},
   "outputs": [
    {
     "data": {
      "text/plain": [
       "season        0\n",
       "yr            0\n",
       "mnth          0\n",
       "hr            0\n",
       "holiday       0\n",
       "weekday       0\n",
       "workingday    0\n",
       "weathersit    0\n",
       "temp          0\n",
       "atemp         0\n",
       "hum           0\n",
       "windspeed     0\n",
       "casual        0\n",
       "registered    0\n",
       "cnt           0\n",
       "dtype: int64"
      ]
     },
     "execution_count": 12,
     "metadata": {},
     "output_type": "execute_result"
    }
   ],
   "source": [
    "df.isna().sum()   #null value check"
   ]
  },
  {
   "cell_type": "code",
   "execution_count": 13,
   "id": "c1574684-24a8-45c9-b795-a72a05d71395",
   "metadata": {},
   "outputs": [
    {
     "data": {
      "text/html": [
       "<div>\n",
       "<style scoped>\n",
       "    .dataframe tbody tr th:only-of-type {\n",
       "        vertical-align: middle;\n",
       "    }\n",
       "\n",
       "    .dataframe tbody tr th {\n",
       "        vertical-align: top;\n",
       "    }\n",
       "\n",
       "    .dataframe thead th {\n",
       "        text-align: right;\n",
       "    }\n",
       "</style>\n",
       "<table border=\"1\" class=\"dataframe\">\n",
       "  <thead>\n",
       "    <tr style=\"text-align: right;\">\n",
       "      <th></th>\n",
       "      <th>count</th>\n",
       "      <th>mean</th>\n",
       "      <th>std</th>\n",
       "      <th>min</th>\n",
       "      <th>25%</th>\n",
       "      <th>50%</th>\n",
       "      <th>75%</th>\n",
       "      <th>max</th>\n",
       "    </tr>\n",
       "  </thead>\n",
       "  <tbody>\n",
       "    <tr>\n",
       "      <th>hr</th>\n",
       "      <td>17379.0</td>\n",
       "      <td>11.546752</td>\n",
       "      <td>6.914405</td>\n",
       "      <td>0.00</td>\n",
       "      <td>6.0000</td>\n",
       "      <td>12.0000</td>\n",
       "      <td>18.0000</td>\n",
       "      <td>23.0000</td>\n",
       "    </tr>\n",
       "    <tr>\n",
       "      <th>temp</th>\n",
       "      <td>17379.0</td>\n",
       "      <td>0.496987</td>\n",
       "      <td>0.192556</td>\n",
       "      <td>0.02</td>\n",
       "      <td>0.3400</td>\n",
       "      <td>0.5000</td>\n",
       "      <td>0.6600</td>\n",
       "      <td>1.0000</td>\n",
       "    </tr>\n",
       "    <tr>\n",
       "      <th>atemp</th>\n",
       "      <td>17379.0</td>\n",
       "      <td>0.475775</td>\n",
       "      <td>0.171850</td>\n",
       "      <td>0.00</td>\n",
       "      <td>0.3333</td>\n",
       "      <td>0.4848</td>\n",
       "      <td>0.6212</td>\n",
       "      <td>1.0000</td>\n",
       "    </tr>\n",
       "    <tr>\n",
       "      <th>hum</th>\n",
       "      <td>17379.0</td>\n",
       "      <td>0.627229</td>\n",
       "      <td>0.192930</td>\n",
       "      <td>0.00</td>\n",
       "      <td>0.4800</td>\n",
       "      <td>0.6300</td>\n",
       "      <td>0.7800</td>\n",
       "      <td>1.0000</td>\n",
       "    </tr>\n",
       "    <tr>\n",
       "      <th>windspeed</th>\n",
       "      <td>17379.0</td>\n",
       "      <td>0.190098</td>\n",
       "      <td>0.122340</td>\n",
       "      <td>0.00</td>\n",
       "      <td>0.1045</td>\n",
       "      <td>0.1940</td>\n",
       "      <td>0.2537</td>\n",
       "      <td>0.8507</td>\n",
       "    </tr>\n",
       "    <tr>\n",
       "      <th>casual</th>\n",
       "      <td>17379.0</td>\n",
       "      <td>35.676218</td>\n",
       "      <td>49.305030</td>\n",
       "      <td>0.00</td>\n",
       "      <td>4.0000</td>\n",
       "      <td>17.0000</td>\n",
       "      <td>48.0000</td>\n",
       "      <td>367.0000</td>\n",
       "    </tr>\n",
       "    <tr>\n",
       "      <th>registered</th>\n",
       "      <td>17379.0</td>\n",
       "      <td>153.786869</td>\n",
       "      <td>151.357286</td>\n",
       "      <td>0.00</td>\n",
       "      <td>34.0000</td>\n",
       "      <td>115.0000</td>\n",
       "      <td>220.0000</td>\n",
       "      <td>886.0000</td>\n",
       "    </tr>\n",
       "    <tr>\n",
       "      <th>cnt</th>\n",
       "      <td>17379.0</td>\n",
       "      <td>189.463088</td>\n",
       "      <td>181.387599</td>\n",
       "      <td>1.00</td>\n",
       "      <td>40.0000</td>\n",
       "      <td>142.0000</td>\n",
       "      <td>281.0000</td>\n",
       "      <td>977.0000</td>\n",
       "    </tr>\n",
       "  </tbody>\n",
       "</table>\n",
       "</div>"
      ],
      "text/plain": [
       "              count        mean         std   min      25%       50%  \\\n",
       "hr          17379.0   11.546752    6.914405  0.00   6.0000   12.0000   \n",
       "temp        17379.0    0.496987    0.192556  0.02   0.3400    0.5000   \n",
       "atemp       17379.0    0.475775    0.171850  0.00   0.3333    0.4848   \n",
       "hum         17379.0    0.627229    0.192930  0.00   0.4800    0.6300   \n",
       "windspeed   17379.0    0.190098    0.122340  0.00   0.1045    0.1940   \n",
       "casual      17379.0   35.676218   49.305030  0.00   4.0000   17.0000   \n",
       "registered  17379.0  153.786869  151.357286  0.00  34.0000  115.0000   \n",
       "cnt         17379.0  189.463088  181.387599  1.00  40.0000  142.0000   \n",
       "\n",
       "                 75%       max  \n",
       "hr           18.0000   23.0000  \n",
       "temp          0.6600    1.0000  \n",
       "atemp         0.6212    1.0000  \n",
       "hum           0.7800    1.0000  \n",
       "windspeed     0.2537    0.8507  \n",
       "casual       48.0000  367.0000  \n",
       "registered  220.0000  886.0000  \n",
       "cnt         281.0000  977.0000  "
      ]
     },
     "execution_count": 13,
     "metadata": {},
     "output_type": "execute_result"
    }
   ],
   "source": [
    "df.describe().T"
   ]
  },
  {
   "cell_type": "markdown",
   "id": "e2b796c4-921f-4b14-8f2d-3c21801f6d3e",
   "metadata": {},
   "source": [
    "# Exploratory Data Analysis"
   ]
  },
  {
   "cell_type": "markdown",
   "id": "26d55fe2-d826-463c-98c6-89a5e79cf142",
   "metadata": {
    "tags": []
   },
   "source": [
    "## Observations on temp"
   ]
  },
  {
   "cell_type": "markdown",
   "id": "41bdc809-a788-49e2-9e1a-537614913a35",
   "metadata": {},
   "source": []
  },
  {
   "cell_type": "markdown",
   "id": "9e2b62a3-b157-428c-9291-cfa17b1c7122",
   "metadata": {},
   "source": [
    "According to the kernel density estimation and after normalization of temperature, we conclude an approximate normal distribution with slight skew to the right. The mean of the distribution is 0.4969871684216583. The standard deviation is 6.534. The range is -6.038 - 7.0.\n",
    "\n",
    "\n",
    "The mean of a distribution tells you the central or 'average' value of your data set. In your case, the mean value of 0.4969871684216583 indicates that on average, the values in your data set are close to this number.\n",
    "The standard deviation (SD) is a measure of how spread out the numbers in the data set are. A low SD indicates that the data points tend to be close to the mean, while a high SD indicates that the data are spread out over a larger range of values. In your case, the SD of 6.534 is fairly high, suggesting that the data points are quite dispersed around the mean.\n",
    "The range -6.038 to 7.0 tells you the spread of your data, which is the difference between the smallest and the largest observed value.\n",
    "Given that your kernel density estimation suggests an approximate normal distribution, this suggests that your data are symmetrically distributed around the mean (though with a slight skew to the right). The fact that it's only an approximate normal distribution and that there's a slight skew to the right suggests that there are slightly more values that are greater than the mean than less than it."
   ]
  },
  {
   "cell_type": "code",
   "execution_count": 205,
   "id": "e9168286-ec91-4317-a193-1ee1d0b906c0",
   "metadata": {},
   "outputs": [
    {
     "data": {
      "image/png": "[encoded data removed]",
      "text/plain": [
       "<Figure size 1000x800 with 2 Axes>"
      ]
     },
     "metadata": {},
     "output_type": "display_data"
    }
   ],
   "source": [
    "# Select the columns for correlation analysis\n",
    "columns = ['season_1', 'season_2', 'season_3', 'season_4', 'atemp', 'temp', 'hum', 'windspeed', 'cnt']\n",
    "\n",
    "# Create a subset of the DataFrame with selected columns\n",
    "subset = df_enc[columns]\n",
    "\n",
    "# Compute the correlation matrix\n",
    "correlation_matrix = subset.corr()\n",
    "\n",
    "# Plot the correlation matrix as a heatmap\n",
    "plt.figure(figsize=(10, 8))\n",
    "sns.heatmap(correlation_matrix, annot=True, cmap='coolwarm')\n",
    "plt.title('Correlation Matrix')\n",
    "plt.show()"
   ]
  },
  {
   "cell_type": "code",
   "execution_count": 14,
   "id": "f6e6919c-4c48-4415-931e-bc636cec7a04",
   "metadata": {
    "tags": []
   },
   "outputs": [],
   "source": [
    "import matplotlib.pyplot as plt\n",
    "import seaborn as sns\n",
    "import numpy as np\n",
    "\n",
    "def histogram_boxplot(feature, figsize=(15, 10), bins=None):\n",
    "    \"\"\"\n",
    "    Boxplot and histogram combined.\n",
    "\n",
    "    Parameters:\n",
    "    - feature: 1-D feature array\n",
    "    - figsize: size of the figure (default: (15, 10))\n",
    "    - bins: number of bins for histogram (default: None/auto)\n",
    "\n",
    "    Returns:\n",
    "    - None\n",
    "    \"\"\"\n",
    "\n",
    "    fig, (ax_box, ax_hist) = plt.subplots(\n",
    "        nrows=2,\n",
    "        sharex=True,\n",
    "        gridspec_kw={\"height_ratios\": (.25, .75)},\n",
    "        figsize=figsize\n",
    "    )\n",
    "\n",
    "    sns.boxplot(feature, ax=ax_box, showmeans=True, color='violet')\n",
    "    \n",
    "    if bins:\n",
    "        sns.histplot(feature, kde=True, ax=ax_hist, bins=bins, palette=\"winter\")\n",
    "    else:\n",
    "        sns.histplot(feature, kde=True, ax=ax_hist)\n",
    "    \n",
    "    ax_hist.axvline(np.mean(feature), color='green', linestyle='--')\n",
    "    ax_hist.axvline(np.median(feature), color='black', linestyle='-')\n"
   ]
  },
  {
   "cell_type": "code",
   "execution_count": 15,
   "id": "fe7464db-50ee-4805-8ac9-60451049ff2b",
   "metadata": {},
   "outputs": [],
   "source": [
    "df_enc = pd.get_dummies(df, columns = ['season'])"
   ]
  },
  {
   "cell_type": "code",
   "execution_count": 16,
   "id": "db4ddd99-0ab8-4b96-bb4a-ea32a28987f2",
   "metadata": {
    "tags": []
   },
   "outputs": [
    {
     "data": {
      "image/png": "[encoded data removed]",
      "text/plain": [
       "<Figure size 1500x1000 with 2 Axes>"
      ]
     },
     "metadata": {},
     "output_type": "display_data"
    }
   ],
   "source": [
    "histogram_boxplot(df_enc[\"temp\"])"
   ]
  },
  {
   "cell_type": "code",
   "execution_count": 17,
   "id": "b3d35a5d-6854-46d2-9a1e-ad6f065bab2c",
   "metadata": {
    "tags": []
   },
   "outputs": [
    {
     "data": {
      "text/html": [
       "<table class=\"simpletable\">\n",
       "<caption>OLS Regression Results</caption>\n",
       "<tr>\n",
       "  <th>Dep. Variable:</th>           <td>cnt</td>       <th>  R-squared:         </th>  <td>   0.164</td>  \n",
       "</tr>\n",
       "<tr>\n",
       "  <th>Model:</th>                   <td>OLS</td>       <th>  Adj. R-squared:    </th>  <td>   0.164</td>  \n",
       "</tr>\n",
       "<tr>\n",
       "  <th>Method:</th>             <td>Least Squares</td>  <th>  F-statistic:       </th>  <td>   3405.</td>  \n",
       "</tr>\n",
       "<tr>\n",
       "  <th>Date:</th>             <td>Thu, 22 Jun 2023</td> <th>  Prob (F-statistic):</th>   <td>  0.00</td>   \n",
       "</tr>\n",
       "<tr>\n",
       "  <th>Time:</th>                 <td>19:34:37</td>     <th>  Log-Likelihood:    </th> <td>-1.1349e+05</td>\n",
       "</tr>\n",
       "<tr>\n",
       "  <th>No. Observations:</th>      <td> 17379</td>      <th>  AIC:               </th>  <td>2.270e+05</td> \n",
       "</tr>\n",
       "<tr>\n",
       "  <th>Df Residuals:</th>          <td> 17377</td>      <th>  BIC:               </th>  <td>2.270e+05</td> \n",
       "</tr>\n",
       "<tr>\n",
       "  <th>Df Model:</th>              <td>     1</td>      <th>                     </th>      <td> </td>     \n",
       "</tr>\n",
       "<tr>\n",
       "  <th>Covariance Type:</th>      <td>nonrobust</td>    <th>                     </th>      <td> </td>     \n",
       "</tr>\n",
       "</table>\n",
       "<table class=\"simpletable\">\n",
       "<tr>\n",
       "    <td></td>       <th>coef</th>     <th>std err</th>      <th>t</th>      <th>P>|t|</th>  <th>[0.025</th>    <th>0.975]</th>  \n",
       "</tr>\n",
       "<tr>\n",
       "  <th>const</th> <td>   -0.0356</td> <td>    3.483</td> <td>   -0.010</td> <td> 0.992</td> <td>   -6.862</td> <td>    6.791</td>\n",
       "</tr>\n",
       "<tr>\n",
       "  <th>temp</th>  <td>  381.2949</td> <td>    6.534</td> <td>   58.352</td> <td> 0.000</td> <td>  368.487</td> <td>  394.103</td>\n",
       "</tr>\n",
       "</table>\n",
       "<table class=\"simpletable\">\n",
       "<tr>\n",
       "  <th>Omnibus:</th>       <td>3140.760</td> <th>  Durbin-Watson:     </th> <td>   0.368</td>\n",
       "</tr>\n",
       "<tr>\n",
       "  <th>Prob(Omnibus):</th>  <td> 0.000</td>  <th>  Jarque-Bera (JB):  </th> <td>5634.907</td>\n",
       "</tr>\n",
       "<tr>\n",
       "  <th>Skew:</th>           <td> 1.152</td>  <th>  Prob(JB):          </th> <td>    0.00</td>\n",
       "</tr>\n",
       "<tr>\n",
       "  <th>Kurtosis:</th>       <td> 4.572</td>  <th>  Cond. No.          </th> <td>    6.52</td>\n",
       "</tr>\n",
       "</table><br/><br/>Notes:<br/>[1] Standard Errors assume that the covariance matrix of the errors is correctly specified."
      ],
      "text/plain": [
       "<class 'statsmodels.iolib.summary.Summary'>\n",
       "\"\"\"\n",
       "                            OLS Regression Results                            \n",
       "==============================================================================\n",
       "Dep. Variable:                    cnt   R-squared:                       0.164\n",
       "Model:                            OLS   Adj. R-squared:                  0.164\n",
       "Method:                 Least Squares   F-statistic:                     3405.\n",
       "Date:                Thu, 22 Jun 2023   Prob (F-statistic):               0.00\n",
       "Time:                        19:34:37   Log-Likelihood:            -1.1349e+05\n",
       "No. Observations:               17379   AIC:                         2.270e+05\n",
       "Df Residuals:                   17377   BIC:                         2.270e+05\n",
       "Df Model:                           1                                         \n",
       "Covariance Type:            nonrobust                                         \n",
       "==============================================================================\n",
       "                 coef    std err          t      P>|t|      [0.025      0.975]\n",
       "------------------------------------------------------------------------------\n",
       "const         -0.0356      3.483     -0.010      0.992      -6.862       6.791\n",
       "temp         381.2949      6.534     58.352      0.000     368.487     394.103\n",
       "==============================================================================\n",
       "Omnibus:                     3140.760   Durbin-Watson:                   0.368\n",
       "Prob(Omnibus):                  0.000   Jarque-Bera (JB):             5634.907\n",
       "Skew:                           1.152   Prob(JB):                         0.00\n",
       "Kurtosis:                       4.572   Cond. No.                         6.52\n",
       "==============================================================================\n",
       "\n",
       "Notes:\n",
       "[1] Standard Errors assume that the covariance matrix of the errors is correctly specified.\n",
       "\"\"\""
      ]
     },
     "execution_count": 17,
     "metadata": {},
     "output_type": "execute_result"
    }
   ],
   "source": [
    "# univariate analysis\n",
    "X1 = df_enc['temp']\n",
    "y = df_enc['cnt']\n",
    "\n",
    "import statsmodels.api as sm # use stats models for basic linear regression\n",
    "X1 = sm.add_constant(X1) # adds constant to the model\n",
    "model = sm.OLS(y, X1).fit()\n",
    "model.summary()"
   ]
  },
  {
   "cell_type": "code",
   "execution_count": 18,
   "id": "c1e28eec-86e5-421b-8bb8-16c41f6e8795",
   "metadata": {
    "tags": []
   },
   "outputs": [
    {
     "data": {
      "text/plain": [
       "0.4969871684216583"
      ]
     },
     "execution_count": 18,
     "metadata": {},
     "output_type": "execute_result"
    }
   ],
   "source": [
    "df_enc['temp'].mean()"
   ]
  },
  {
   "cell_type": "markdown",
   "id": "1f5bb71c-a321-4749-a29c-7a7b10cc682c",
   "metadata": {},
   "source": [
    "Given the outputs of the correlation matrix we can see the highest levels of variations in fall at 0.64 between temp and cnt. In spring, we see a -0.58 correlation matrix between temp and cnt,\n",
    "As temp goes down, count goes down as temp goes up count goes up. \n",
    "\n",
    "TODO: Connect mean temperature from histogram or range with fall's correlation between temp and cnt. \n",
    "Connect low bike usage with spring's correlation between temp and cnt."
   ]
  },
  {
   "cell_type": "code",
   "execution_count": 20,
   "id": "eeb0a70c-7706-413b-adb4-384ddccb570f",
   "metadata": {
    "tags": []
   },
   "outputs": [
    {
     "data": {
      "image/png": "[encoded data removed]",
      "text/plain": [
       "<Figure size 1000x800 with 2 Axes>"
      ]
     },
     "metadata": {},
     "output_type": "display_data"
    }
   ],
   "source": [
    "# Select the columns for correlation analysis\n",
    "columns = ['season_1', 'season_2', 'season_3', 'season_4', 'temp', 'hum', 'cnt']\n",
    "\n",
    "# Create a subset of the DataFrame with selected columns\n",
    "subset = df_enc[columns]\n",
    "\n",
    "# Compute the correlation matrix\n",
    "correlation_matrix = subset.corr()\n",
    "\n",
    "# Plot the correlation matrix as a heatmap\n",
    "plt.figure(figsize=(10, 8))\n",
    "sns.heatmap(correlation_matrix, annot=True, cmap='coolwarm')\n",
    "plt.title('Correlation Matrix')\n",
    "plt.show()"
   ]
  },
  {
   "cell_type": "code",
   "execution_count": 21,
   "id": "af4c81fe-d9ff-4236-9e5a-45e406341b81",
   "metadata": {
    "tags": []
   },
   "outputs": [],
   "source": [
    "# Multiple Variable Regression"
   ]
  },
  {
   "cell_type": "code",
   "execution_count": 26,
   "id": "00d33134-1493-4208-86a6-c924e8a6ab79",
   "metadata": {
    "tags": []
   },
   "outputs": [],
   "source": [
    "# assign independent variables, dependent variable, respectively\n",
    "# x = df_enc.loc[:, df_enc.columns != 'cnt']\n",
    "x = df_enc[['temp','season_1','season_2','season_3','season_4','hum']]\n",
    "# define the target\n",
    "y = pd.DataFrame(df_enc['cnt'])\n"
   ]
  },
  {
   "cell_type": "code",
   "execution_count": 27,
   "id": "91441611-0837-48d5-9e65-53c10f9cca35",
   "metadata": {
    "tags": []
   },
   "outputs": [],
   "source": [
    "from sklearn.model_selection import train_test_split\n",
    "X_train, X_test, y_train, y_test = train_test_split(x, y, test_size=0.3, \n",
    "                                                    random_state=42)"
   ]
  },
  {
   "cell_type": "code",
   "execution_count": 28,
   "id": "2c3010fb-9a95-4ba0-9370-59dbe1d7a789",
   "metadata": {
    "tags": []
   },
   "outputs": [
    {
     "data": {
      "text/html": [
       "<table class=\"simpletable\">\n",
       "<caption>OLS Regression Results</caption>\n",
       "<tr>\n",
       "  <th>Dep. Variable:</th>           <td>cnt</td>       <th>  R-squared:         </th> <td>   0.280</td> \n",
       "</tr>\n",
       "<tr>\n",
       "  <th>Model:</th>                   <td>OLS</td>       <th>  Adj. R-squared:    </th> <td>   0.280</td> \n",
       "</tr>\n",
       "<tr>\n",
       "  <th>Method:</th>             <td>Least Squares</td>  <th>  F-statistic:       </th> <td>   946.8</td> \n",
       "</tr>\n",
       "<tr>\n",
       "  <th>Date:</th>             <td>Thu, 22 Jun 2023</td> <th>  Prob (F-statistic):</th>  <td>  0.00</td>  \n",
       "</tr>\n",
       "<tr>\n",
       "  <th>Time:</th>                 <td>19:58:30</td>     <th>  Log-Likelihood:    </th> <td> -78628.</td> \n",
       "</tr>\n",
       "<tr>\n",
       "  <th>No. Observations:</th>      <td> 12165</td>      <th>  AIC:               </th> <td>1.573e+05</td>\n",
       "</tr>\n",
       "<tr>\n",
       "  <th>Df Residuals:</th>          <td> 12159</td>      <th>  BIC:               </th> <td>1.573e+05</td>\n",
       "</tr>\n",
       "<tr>\n",
       "  <th>Df Model:</th>              <td>     5</td>      <th>                     </th>     <td> </td>    \n",
       "</tr>\n",
       "<tr>\n",
       "  <th>Covariance Type:</th>      <td>nonrobust</td>    <th>                     </th>     <td> </td>    \n",
       "</tr>\n",
       "</table>\n",
       "<table class=\"simpletable\">\n",
       "<tr>\n",
       "      <td></td>        <th>coef</th>     <th>std err</th>      <th>t</th>      <th>P>|t|</th>  <th>[0.025</th>    <th>0.975]</th>  \n",
       "</tr>\n",
       "<tr>\n",
       "  <th>const</th>    <td>  118.5393</td> <td>    6.712</td> <td>   17.662</td> <td> 0.000</td> <td>  105.384</td> <td>  131.695</td>\n",
       "</tr>\n",
       "<tr>\n",
       "  <th>temp</th>     <td>  450.6598</td> <td>   11.960</td> <td>   37.682</td> <td> 0.000</td> <td>  427.217</td> <td>  474.103</td>\n",
       "</tr>\n",
       "<tr>\n",
       "  <th>season_1</th> <td>   25.4229</td> <td>    2.757</td> <td>    9.222</td> <td> 0.000</td> <td>   20.019</td> <td>   30.827</td>\n",
       "</tr>\n",
       "<tr>\n",
       "  <th>season_2</th> <td>   24.7096</td> <td>    3.285</td> <td>    7.522</td> <td> 0.000</td> <td>   18.270</td> <td>   31.149</td>\n",
       "</tr>\n",
       "<tr>\n",
       "  <th>season_3</th> <td>  -16.7054</td> <td>    4.712</td> <td>   -3.546</td> <td> 0.000</td> <td>  -25.941</td> <td>   -7.470</td>\n",
       "</tr>\n",
       "<tr>\n",
       "  <th>season_4</th> <td>   85.1122</td> <td>    2.819</td> <td>   30.192</td> <td> 0.000</td> <td>   79.586</td> <td>   90.638</td>\n",
       "</tr>\n",
       "<tr>\n",
       "  <th>hum</th>      <td> -287.8966</td> <td>    7.526</td> <td>  -38.255</td> <td> 0.000</td> <td> -302.648</td> <td> -273.145</td>\n",
       "</tr>\n",
       "</table>\n",
       "<table class=\"simpletable\">\n",
       "<tr>\n",
       "  <th>Omnibus:</th>       <td>2441.169</td> <th>  Durbin-Watson:     </th> <td>   2.006</td>\n",
       "</tr>\n",
       "<tr>\n",
       "  <th>Prob(Omnibus):</th>  <td> 0.000</td>  <th>  Jarque-Bera (JB):  </th> <td>4792.801</td>\n",
       "</tr>\n",
       "<tr>\n",
       "  <th>Skew:</th>           <td> 1.216</td>  <th>  Prob(JB):          </th> <td>    0.00</td>\n",
       "</tr>\n",
       "<tr>\n",
       "  <th>Kurtosis:</th>       <td> 4.882</td>  <th>  Cond. No.          </th> <td>9.69e+15</td>\n",
       "</tr>\n",
       "</table><br/><br/>Notes:<br/>[1] Standard Errors assume that the covariance matrix of the errors is correctly specified.<br/>[2] The smallest eigenvalue is 2.47e-28. This might indicate that there are<br/>strong multicollinearity problems or that the design matrix is singular."
      ],
      "text/plain": [
       "<class 'statsmodels.iolib.summary.Summary'>\n",
       "\"\"\"\n",
       "                            OLS Regression Results                            \n",
       "==============================================================================\n",
       "Dep. Variable:                    cnt   R-squared:                       0.280\n",
       "Model:                            OLS   Adj. R-squared:                  0.280\n",
       "Method:                 Least Squares   F-statistic:                     946.8\n",
       "Date:                Thu, 22 Jun 2023   Prob (F-statistic):               0.00\n",
       "Time:                        19:58:30   Log-Likelihood:                -78628.\n",
       "No. Observations:               12165   AIC:                         1.573e+05\n",
       "Df Residuals:                   12159   BIC:                         1.573e+05\n",
       "Df Model:                           5                                         \n",
       "Covariance Type:            nonrobust                                         \n",
       "==============================================================================\n",
       "                 coef    std err          t      P>|t|      [0.025      0.975]\n",
       "------------------------------------------------------------------------------\n",
       "const        118.5393      6.712     17.662      0.000     105.384     131.695\n",
       "temp         450.6598     11.960     37.682      0.000     427.217     474.103\n",
       "season_1      25.4229      2.757      9.222      0.000      20.019      30.827\n",
       "season_2      24.7096      3.285      7.522      0.000      18.270      31.149\n",
       "season_3     -16.7054      4.712     -3.546      0.000     -25.941      -7.470\n",
       "season_4      85.1122      2.819     30.192      0.000      79.586      90.638\n",
       "hum         -287.8966      7.526    -38.255      0.000    -302.648    -273.145\n",
       "==============================================================================\n",
       "Omnibus:                     2441.169   Durbin-Watson:                   2.006\n",
       "Prob(Omnibus):                  0.000   Jarque-Bera (JB):             4792.801\n",
       "Skew:                           1.216   Prob(JB):                         0.00\n",
       "Kurtosis:                       4.882   Cond. No.                     9.69e+15\n",
       "==============================================================================\n",
       "\n",
       "Notes:\n",
       "[1] Standard Errors assume that the covariance matrix of the errors is correctly specified.\n",
       "[2] The smallest eigenvalue is 2.47e-28. This might indicate that there are\n",
       "strong multicollinearity problems or that the design matrix is singular.\n",
       "\"\"\""
      ]
     },
     "execution_count": 28,
     "metadata": {},
     "output_type": "execute_result"
    }
   ],
   "source": [
    "import statsmodels.api as sm\n",
    "X_train = sm.add_constant(X_train)\n",
    "model = sm.OLS(y_train, X_train).fit()\n",
    "model.summary()"
   ]
  },
  {
   "cell_type": "markdown",
   "id": "776a47d1-c622-44c6-8923-1466ecfa512a",
   "metadata": {},
   "source": [
    "Dependent Variable: The dependent variable is 'cnt' (count).\n",
    "\n",
    "R-squared: The R-squared value indicates the proportion of the variance in the dependent variable explained by the independent variables. In this case, the R-squared value is 1.000, which suggests that the independent variables in the model can perfectly explain the variation in the dependent variable.\n",
    "\n",
    "Adj. R-squared: The adjusted R-squared value is a modified version of R-squared that accounts for the number of predictors in the model. The adjusted R-squared value of 1.000 indicates a perfect fit of the model.\n",
    "\n",
    "F-statistic: The F-statistic is used to test the overall significance of the regression model. In this case, the F-statistic is extremely large (1.041e+32), indicating that the model is highly significant.\n",
    "\n",
    "P-values: The P-values associated with each coefficient represent the probability of observing a coefficient as extreme as the one estimated if the null hypothesis (no relationship) is true. The P-values help determine the statistical significance of each independent variable. Variables with P-values less than the chosen significance level (typically 0.05) are considered statistically significant. In this output, some variables have P-values less than 0.05, indicating they are statistically significant, while others have higher P-values.\n",
    "\n",
    "Coefficients: The coefficients represent the estimated effect of each independent variable on the dependent variable. The values in the 'coef' column indicate the estimated coefficients, while the 'std err' column provides the standard errors associated with those estimates.\n",
    "\n",
    "Confidence Intervals: The values in the '[0.025 0.975]' column represent the 95% confidence intervals for the corresponding coefficients. The confidence intervals provide a range within which we can be reasonably confident that the true population value lies.\n",
    "\n",
    "Based on the information provided, it appears that the model has a perfect fit, which could indicate potential issues such as perfect multicollinearity or overfitting. It is recommended to review the data, the model specification, and the results carefully to ensure the validity and interpretability of the regression analysis."
   ]
  }
 ],
 "metadata": {
  "kernelspec": {
   "display_name": "Python 3 (ipykernel)",
   "language": "python",
   "name": "python3"
  },
  "language_info": {
   "codemirror_mode": {
    "name": "ipython",
    "version": 3
   },
   "file_extension": ".py",
   "mimetype": "text/x-python",
   "name": "python",
   "nbconvert_exporter": "python",
   "pygments_lexer": "ipython3",
   "version": "3.10.11"
  }
 },
 "nbformat": 4,
 "nbformat_minor": 5
}
