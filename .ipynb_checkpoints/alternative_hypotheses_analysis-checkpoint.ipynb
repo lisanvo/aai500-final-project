{
 "cells": [
  {
   "cell_type": "code",
   "execution_count": null,
   "id": "8852649e-043f-40f0-88fb-be92ef502e83",
   "metadata": {
    "noteable": {
     "cell_type": "code"
    }
   },
   "outputs": [],
   "source": [
    "import pandas as pd\n",
    "import matplotlib.pyplot as plt\n",
    "import seaborn as sns\n",
    "from scipy.stats import spearmanr\n",
    "import sqlite3\n",
    "\n",
    "conn = sqlite3.connect('database.db')\n",
    "\n",
    "# Query to select all data from the table in the database\n",
    "query = \"SELECT * FROM data\"\n",
    "\n",
    "# Load the data into a pandas DataFrame\n",
    "df = pd.read_sql_query(query, conn)\n",
    "\n",
    "# Convert 'dteday' to datetime format and set it as index for the dataframe\n",
    "df['dteday'] = pd.to_datetime(df['dteday'])\n",
    "df.set_index('dteday', inplace=True)\n",
    "\n",
    "# Calculate and print Spearman's correlation coefficient between 'temp' and 'cnt'\n",
    "corr, _ = spearmanr(df['temp'], df['cnt'])\n",
    "print('Spearmans correlation: %.3f' % corr)\n",
    "\n",
    "# Close the database connection\n",
    "conn.close()"
   ]
  },
  {
   "cell_type": "code",
   "execution_count": null,
   "id": "0f47be42-26a6-4569-a38c-b1dcdaed855c",
   "metadata": {
    "noteable": {
     "cell_type": "code"
    }
   },
   "outputs": [],
   "source": [
    "import statsmodels.api as sm\n",
    "\n",
    "conn = sqlite3.connect('database.db')\n",
    "\n",
    "# Query to select all data from the table in the database\n",
    "query = \"SELECT * FROM data\"\n",
    "\n",
    "# Load the data into a pandas DataFrame\n",
    "df = pd.read_sql_query(query, conn)\n",
    "\n",
    "# Convert 'dteday' to datetime format and set it as index for the dataframe\n",
    "df['dteday'] = pd.to_datetime(df['dteday'])\n",
    "df.set_index('dteday', inplace=True)\n",
    "\n",
    "# Create interaction terms\n",
    "df['temp_season'] = df['temp'] * df['season']\n",
    "\n",
    "# Fit a linear regression model with interaction term\n",
    "X = df[['temp', 'season', 'temp_season']]\n",
    "X = sm.add_constant(X)  # add a constant term to the predictor\n",
    "y = df['cnt']\n",
    "model = sm.OLS(y, X)\n",
    "results = model.fit()\n",
    "\n",
    "# Print the summary of the regression model\n",
    "print(results.summary())\n",
    "\n",
    "# Close the database connection\n",
    "conn.close()"
   ]
  },
  {
   "cell_type": "code",
   "execution_count": null,
   "id": "c78a73fb-26ea-4a2e-a267-b36fb498c120",
   "metadata": {
    "noteable": {
     "cell_type": "code"
    }
   },
   "outputs": [],
   "source": [
    "import statsmodels.api as sm\n",
    "\n",
    "conn = sqlite3.connect('database.db')\n",
    "\n",
    "# Query to select all data from the table in the database\n",
    "query = \"SELECT * FROM data\"\n",
    "\n",
    "# Load the data into a pandas DataFrame\n",
    "df = pd.read_sql_query(query, conn)\n",
    "\n",
    "# Convert 'dteday' to datetime format and set it as index for the dataframe\n",
    "df['dteday'] = pd.to_datetime(df['dteday'])\n",
    "df.set_index('dteday', inplace=True)\n",
    "\n",
    "# Fit a linear regression model with 'temp', 'humidity', 'windspeed', and 'weather'\n",
    "X = df[['temp', 'humidity', 'windspeed', 'weather']]\n",
    "X = sm.add_constant(X)  # add a constant term to the predictor\n",
    "y = df['cnt']\n",
    "model = sm.OLS(y, X)\n",
    "results = model.fit()\n",
    "\n",
    "# Print the summary of the regression model\n",
    "print(results.summary())\n",
    "\n",
    "# Close the database connection\n",
    "conn.close()"
   ]
  }
 ],
 "metadata": {
  "noteable": {
   "last_delta_id": "dbb72b36-4467-4ce5-b8fa-e4e4ae29a791",
   "last_transaction_id": "0d965daa-8c32-49d8-8da4-70dafd1ca9a8"
  },
  "noteable-chatgpt": {
   "create_notebook": {
    "openai_conversation_id": "9a2b0c61-97c2-58e2-8f24-29a52708c812",
    "openai_ephemeral_user_id": "30d00dc9-0a5d-5cb3-b330-cd7c8ba7274e",
    "openai_subdivision1_iso_code": "US-CA"
   }
  },
  "nteract": {
   "version": "noteable@2.9.0"
  },
  "selected_hardware_size": "small"
 },
 "nbformat": 4,
 "nbformat_minor": 5
}
