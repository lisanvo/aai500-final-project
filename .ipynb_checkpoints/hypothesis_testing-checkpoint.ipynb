{
 "cells": [
  {
   "cell_type": "code",
   "execution_count": null,
   "id": "1ccac412-c427-48c4-add3-709709e43ddc",
   "metadata": {
    "noteable": {
     "cell_type": "code"
    }
   },
   "outputs": [],
   "source": [
    "import statsmodels.api as sm\n",
    "import sqlite3\n",
    "import pandas as pd\n",
    "\n",
    "# Connect to the SQLite database\n",
    "conn = sqlite3.connect('database.db')\n",
    "\n",
    "# Query to select all data from the table in the database\n",
    "query = \"SELECT * FROM data\"\n",
    "\n",
    "# Load the data into a pandas DataFrame\n",
    "df = pd.read_sql_query(query, conn)\n",
    "\n",
    "# Convert 'dteday' to datetime format and set it as index for the dataframe\n",
    "df['dteday'] = pd.to_datetime(df['dteday'])\n",
    "df.set_index('dteday', inplace=True)\n",
    "\n",
    "# Fit a linear regression model with 'temp', 'hum', 'windspeed', and 'weathersit_1'\n",
    "X = df[['temp', 'hum', 'windspeed', 'weathersit_1']]\n",
    "X = sm.add_constant(X)  # add a constant term to the predictor\n",
    "y = df['cnt']\n",
    "model = sm.OLS(y, X)\n",
    "results = model.fit()\n",
    "\n",
    "# Print the summary of the regression model\n",
    "print(results.summary())\n",
    "\n",
    "# Close the database connection\n",
    "conn.close()"
   ]
  },
  {
   "cell_type": "code",
   "execution_count": null,
   "id": "564e1b7a-7c34-433c-8421-b70fdf8a6a42",
   "metadata": {
    "noteable": {
     "cell_type": "code"
    }
   },
   "outputs": [],
   "source": [
    "import statsmodels.api as sm\n",
    "import sqlite3\n",
    "import pandas as pd\n",
    "\n",
    "# Connect to the SQLite database\n",
    "conn = sqlite3.connect('database.db')\n",
    "\n",
    "# Query to select all data from the table in the database\n",
    "query = \"SELECT * FROM data\"\n",
    "\n",
    "# Load the data into a pandas DataFrame\n",
    "df = pd.read_sql_query(query, conn)\n",
    "\n",
    "# Convert 'dteday' to datetime format and set it as index for the dataframe\n",
    "df['dteday'] = pd.to_datetime(df['dteday'])\n",
    "df.set_index('dteday', inplace=True)\n",
    "\n",
    "# Fit a linear regression model with 'temp', 'atemp', 'hum', and 'windspeed'\n",
    "X = df[['temp', 'atemp', 'hum', 'windspeed']]\n",
    "X = sm.add_constant(X)  # add a constant term to the predictor\n",
    "y = df['cnt']\n",
    "model = sm.OLS(y, X)\n",
    "results = model.fit()\n",
    "\n",
    "# Print the summary of the regression model\n",
    "print(results.summary())\n",
    "\n",
    "# Close the database connection\n",
    "conn.close()"
   ]
  }
 ],
 "metadata": {
  "noteable": {
   "last_delta_id": "85b07041-cb3d-4e7d-8ed7-213b92bd67e3",
   "last_transaction_id": "bf6fd6f7-64e3-4110-8ac3-843ee72f4755"
  },
  "noteable-chatgpt": {
   "create_notebook": {
    "openai_conversation_id": "9a2b0c61-97c2-58e2-8f24-29a52708c812",
    "openai_ephemeral_user_id": "30d00dc9-0a5d-5cb3-b330-cd7c8ba7274e",
    "openai_subdivision1_iso_code": "US-CA"
   }
  },
  "nteract": {
   "version": "noteable@2.9.0"
  },
  "selected_hardware_size": "small"
 },
 "nbformat": 4,
 "nbformat_minor": 5
}
