{
 "cells": [
  {
   "cell_type": "code",
   "execution_count": 5,
   "id": "d3a6a956",
   "metadata": {},
   "outputs": [],
   "source": [
    "import sqlite3\n",
    "import pandas as pd\n",
    "# connect to the SQLite database (or create it if it doesn't exist)\n",
    "conn = sqlite3.connect('database.db')\n",
    "c = conn.cursor()\n",
    "\n",
    "# create a new table with the specified columns\n",
    "c.execute('''\n",
    "    CREATE TABLE IF NOT EXISTS data (\n",
    "        instant INTEGER,\n",
    "        dteday TEXT,\n",
    "        season INTEGER,\n",
    "        yr INTEGER,\n",
    "        mnth INTEGER,\n",
    "        hr INTEGER,\n",
    "        holiday INTEGER,\n",
    "        weekday INTEGER,\n",
    "        workingday INTEGER,\n",
    "        weathersit INTEGER,\n",
    "        temp REAL,\n",
    "        atemp REAL,\n",
    "        hum REAL,\n",
    "        windspeed REAL,\n",
    "        casual INTEGER,\n",
    "        registered INTEGER,\n",
    "        cnt INTEGER\n",
    "    )\n",
    "''')\n",
    "\n",
    "# commit the transaction and close the connection\n",
    "conn.commit()\n",
    "conn.close()\n"
   ]
  },
  {
   "cell_type": "code",
   "execution_count": 8,
   "id": "824560a3",
   "metadata": {},
   "outputs": [],
   "source": [
    "# connect to the SQLite database (or create it if it doesn't exist)\n",
    "conn = sqlite3.connect('database.db')\n",
    "\n",
    "# read the data from the URL into a pandas DataFrame\n",
    "url = \"https://raw.githubusercontent.com/lisanvo/aai500-final-project/main/data/hour.csv?token=GHSAT0AAAAAACDLAAAPWYARUQBGNA2QX6OGZEBMY4Q\"\n",
    "df = pd.read_csv(url)\n",
    "\n",
    "df.to_sql('data', conn, if_exists='replace', index=False)\n",
    "\n",
    "conn.close()\n"
   ]
  },
  {
   "cell_type": "code",
   "execution_count": null,
   "id": "8c7d5920",
   "metadata": {},
   "outputs": [],
   "source": []
  }
 ],
 "metadata": {
  "kernelspec": {
   "display_name": "Python 3 (ipykernel)",
   "language": "python",
   "name": "python3"
  },
  "language_info": {
   "codemirror_mode": {
    "name": "ipython",
    "version": 3
   },
   "file_extension": ".py",
   "mimetype": "text/x-python",
   "name": "python",
   "nbconvert_exporter": "python",
   "pygments_lexer": "ipython3",
   "version": "3.10.9"
  }
 },
 "nbformat": 4,
 "nbformat_minor": 5
}
